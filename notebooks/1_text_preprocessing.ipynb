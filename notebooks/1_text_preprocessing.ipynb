{
 "cells": [
  {
   "cell_type": "markdown",
   "id": "4c614e46",
   "metadata": {},
   "source": [
    "## Import necessary libraries"
   ]
  },
  {
   "cell_type": "code",
   "execution_count": null,
   "id": "256d9682",
   "metadata": {},
   "outputs": [],
   "source": [
    "import nltk\n",
    "from nltk.tokenize import RegexpTokenizer\n",
    "from nltk.stem import PorterStemmer\n",
    "from nltk.corpus import stopwords\n",
    "from nltk.tag import pos_tag"
   ]
  },
  {
   "cell_type": "markdown",
   "id": "20c9b8c3",
   "metadata": {},
   "source": [
    "## Define sample text"
   ]
  },
  {
   "cell_type": "code",
   "execution_count": null,
   "id": "e69b66e4",
   "metadata": {},
   "outputs": [],
   "source": [
    "text = \"The quick brown fox jumps over the lazy dog.\""
   ]
  },
  {
   "cell_type": "markdown",
   "id": "cc45bb09",
   "metadata": {},
   "source": [
    "## Tokenize text using split by space"
   ]
  },
  {
   "cell_type": "code",
   "execution_count": null,
   "id": "b990699e",
   "metadata": {},
   "outputs": [],
   "source": [
    "tokens = text.split(\" \")\n",
    "print(\"Tokens:\", tokens)"
   ]
  },
  {
   "cell_type": "markdown",
   "id": "17db6e08",
   "metadata": {},
   "source": [
    "## Tokenize text using regular expression"
   ]
  },
  {
   "cell_type": "code",
   "execution_count": null,
   "id": "688dfdb4",
   "metadata": {},
   "outputs": [],
   "source": [
    "tokenizer = RegexpTokenizer(r'\\w+')\n",
    "tokens = tokenizer.tokenize(text)\n",
    "print(\"Tokens:\", tokens)"
   ]
  },
  {
   "cell_type": "markdown",
   "id": "18c9832d",
   "metadata": {},
   "source": [
    "## Perform stemming on tokens"
   ]
  },
  {
   "cell_type": "code",
   "execution_count": null,
   "id": "7781805f",
   "metadata": {},
   "outputs": [],
   "source": [
    "stemmer = PorterStemmer()\n",
    "stemmed_tokens = [stemmer.stem(token) for token in tokens]\n",
    "print(\"Stemmed Tokens:\", stemmed_tokens)"
   ]
  },
  {
   "cell_type": "markdown",
   "id": "8848c513",
   "metadata": {},
   "source": [
    "## Perform lemmatization on tokens"
   ]
  },
  {
   "cell_type": "code",
   "execution_count": null,
   "id": "e5309a6f",
   "metadata": {},
   "outputs": [],
   "source": [
    "nltk.download('wordnet')"
   ]
  },
  {
   "cell_type": "code",
   "execution_count": null,
   "id": "f50be008",
   "metadata": {},
   "outputs": [],
   "source": [
    "nltk.download('omw-1.4')"
   ]
  },
  {
   "cell_type": "code",
   "execution_count": null,
   "id": "88825461",
   "metadata": {},
   "outputs": [],
   "source": [
    "from nltk.stem import WordNetLemmatizer\n",
    "  \n",
    "lemmatizer = WordNetLemmatizer()"
   ]
  },
  {
   "cell_type": "code",
   "execution_count": null,
   "id": "e19146c6",
   "metadata": {},
   "outputs": [],
   "source": [
    "lemmatized_tokens = [lemmatizer.lemmatize(token) for token in tokens]\n",
    "print(\"lemmatized Tokens:\", lemmatized_tokens)"
   ]
  },
  {
   "cell_type": "markdown",
   "id": "29acb8d2",
   "metadata": {},
   "source": [
    "## Remove stop words from tokens"
   ]
  },
  {
   "cell_type": "code",
   "execution_count": null,
   "id": "e779dfe1",
   "metadata": {},
   "outputs": [],
   "source": [
    "# download stopwords\n",
    "nltk.download('stopwords')"
   ]
  },
  {
   "cell_type": "code",
   "execution_count": null,
   "id": "408ecaae",
   "metadata": {},
   "outputs": [],
   "source": [
    "stop_words = set(stopwords.words(\"english\"))\n",
    "filtered_tokens = [token for token in tokens if token not in stop_words]\n",
    "print(\"Filtered Tokens:\", filtered_tokens)"
   ]
  },
  {
   "cell_type": "markdown",
   "id": "378c2bc6",
   "metadata": {},
   "source": [
    "## Perform part-of-speech tagging on tokens"
   ]
  },
  {
   "cell_type": "code",
   "execution_count": null,
   "id": "64f08b61",
   "metadata": {},
   "outputs": [],
   "source": [
    "# Averaged perceptron is a part-of-speech tagging algorithm, \n",
    "# used to assign parts of speech to each word in a sentence.\n",
    "nltk.download('averaged_perceptron_tagger')"
   ]
  },
  {
   "cell_type": "code",
   "execution_count": null,
   "id": "bb743e8d",
   "metadata": {},
   "outputs": [],
   "source": [
    "tagged_tokens = pos_tag(tokens)\n",
    "print(\"Tagged Tokens:\", tagged_tokens)"
   ]
  },
  {
   "cell_type": "code",
   "execution_count": null,
   "id": "3df68043",
   "metadata": {},
   "outputs": [],
   "source": []
  },
  {
   "cell_type": "markdown",
   "id": "fed6fba4",
   "metadata": {},
   "source": [
    "## Embedding"
   ]
  },
  {
   "cell_type": "code",
   "execution_count": null,
   "id": "f13092b5",
   "metadata": {},
   "outputs": [],
   "source": [
    "!pip install -U scikit-learn"
   ]
  },
  {
   "cell_type": "code",
   "execution_count": null,
   "id": "e4214c6b",
   "metadata": {},
   "outputs": [],
   "source": [
    "import gensim\n",
    "import gensim.downloader as api\n",
    "import numpy as np\n",
    "\n",
    "api.info()['models'].keys()"
   ]
  },
  {
   "cell_type": "code",
   "execution_count": null,
   "id": "62981ce3",
   "metadata": {},
   "outputs": [],
   "source": [
    "# load model\n",
    "model = api.load('glove-twitter-25')"
   ]
  },
  {
   "cell_type": "code",
   "execution_count": null,
   "id": "2c80096b",
   "metadata": {},
   "outputs": [],
   "source": [
    "# Apply the model to a corpus of text\n",
    "words = [\"new-york\", \"paris\", \"dog\", \"cat\", \"tapas\", \"pizza\", \"science\", \"book\",\n",
    "         \"maths\", \"theory\", \"night\", \"day\", \"hour\", \"word\", \"sentence\", \"wold\", \"above\", \"under\",\n",
    "        \"europe\", \"africa\", \"france\", \"italy\", \"india\", \"happy\", \"sad\"]\n",
    "vectors = [model[word] for word in words]"
   ]
  },
  {
   "cell_type": "code",
   "execution_count": null,
   "id": "52fbca58",
   "metadata": {},
   "outputs": [],
   "source": [
    "######## Can you check the vector dimension ? ############"
   ]
  },
  {
   "cell_type": "code",
   "execution_count": null,
   "id": "bbb213d1",
   "metadata": {},
   "outputs": [],
   "source": [
    "!pip install -U scikit-learn"
   ]
  },
  {
   "cell_type": "code",
   "execution_count": null,
   "id": "7a81add9",
   "metadata": {},
   "outputs": [],
   "source": [
    "import numpy as np"
   ]
  },
  {
   "cell_type": "code",
   "execution_count": null,
   "id": "2b27cfe0",
   "metadata": {},
   "outputs": [],
   "source": [
    "# Visualize the vectors using matplotlib\n",
    "import matplotlib.pyplot as plt\n",
    "from sklearn.manifold import TSNE\n",
    "\n",
    "tsne = TSNE(n_components=2, perplexity=20)\n",
    "vectors_2d = tsne.fit_transform(np.array(vectors))"
   ]
  },
  {
   "cell_type": "code",
   "execution_count": null,
   "id": "80eca754",
   "metadata": {},
   "outputs": [],
   "source": [
    "fig, ax = plt.subplots( figsize=(15, 8))\n",
    "ax.scatter(vectors_2d[:, 0], vectors_2d[:, 1])\n",
    "for i, txt in enumerate(words):\n",
    "    ax.annotate(txt, (vectors_2d[:, 0][i], vectors_2d[:, 1][i]), fontsize=15)\n",
    "plt.show()"
   ]
  },
  {
   "cell_type": "code",
   "execution_count": null,
   "id": "bcc8a8ec",
   "metadata": {},
   "outputs": [],
   "source": []
  }
 ],
 "metadata": {
  "kernelspec": {
   "display_name": "Python 3 (ipykernel)",
   "language": "python",
   "name": "python3"
  },
  "language_info": {
   "codemirror_mode": {
    "name": "ipython",
    "version": 3
   },
   "file_extension": ".py",
   "mimetype": "text/x-python",
   "name": "python",
   "nbconvert_exporter": "python",
   "pygments_lexer": "ipython3",
   "version": "3.9.13"
  }
 },
 "nbformat": 4,
 "nbformat_minor": 5
}

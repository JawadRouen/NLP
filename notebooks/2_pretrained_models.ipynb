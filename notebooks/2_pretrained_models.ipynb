{
 "cells": [
  {
   "cell_type": "markdown",
   "id": "69a28154",
   "metadata": {},
   "source": [
    "# Pretrained models"
   ]
  },
  {
   "cell_type": "markdown",
   "id": "e7688085",
   "metadata": {},
   "source": [
    "This page shows the most frequent use-cases when using the library: [Summary of the tasks](https://huggingface.co/docs/transformers/task_summary)\n",
    "\n",
    "In this notebook we will use this dataset: [Amazon Food Reviews 100k Datasets](https://www.kaggle.com/datasets/shoumikdhar/amazon-food-reviews-100k-datasets)\n"
   ]
  },
  {
   "cell_type": "markdown",
   "id": "d2b47da7",
   "metadata": {},
   "source": [
    "## Read data"
   ]
  },
  {
   "cell_type": "code",
   "execution_count": null,
   "id": "fb4c8aa4",
   "metadata": {},
   "outputs": [],
   "source": [
    "import pandas as pd\n",
    "import zipfile\n",
    "\n",
    "df_reviews = pd.read_csv(f\"https://drive.google.com/uc?id=1paqC6ZLQmDH43lMwmZt6tmRo0CRxCvoY")\n"
   ]
  },
  {
   "cell_type": "code",
   "execution_count": null,
   "id": "2ff62af7",
   "metadata": {},
   "outputs": [],
   "source": [
    "df_reviews.head()"
   ]
  },
  {
   "cell_type": "markdown",
   "id": "cef760e4",
   "metadata": {},
   "source": [
    "## Data Exploration"
   ]
  },
  {
   "cell_type": "code",
   "execution_count": null,
   "id": "28a9f49d",
   "metadata": {},
   "outputs": [],
   "source": [
    "df_reviews.Review.apply(lambda x: len(x.split())).describe()"
   ]
  },
  {
   "cell_type": "code",
   "execution_count": null,
   "id": "c64354b5",
   "metadata": {},
   "outputs": [],
   "source": [
    "df_reviews.Rating.describe()"
   ]
  },
  {
   "cell_type": "markdown",
   "id": "7733e417",
   "metadata": {},
   "source": [
    "## Classification & Sentiment Analysis"
   ]
  },
  {
   "cell_type": "code",
   "execution_count": null,
   "id": "d9f82436",
   "metadata": {},
   "outputs": [],
   "source": [
    "from transformers import pipeline\n",
    "\n",
    "classifier = pipeline(\"sentiment-analysis\")"
   ]
  },
  {
   "cell_type": "code",
   "execution_count": null,
   "id": "7e46f223",
   "metadata": {},
   "outputs": [],
   "source": [
    "# check \n",
    "classifier(\"AI stuff is real hard to understand.\")"
   ]
  },
  {
   "cell_type": "code",
   "execution_count": null,
   "id": "7215e36c",
   "metadata": {},
   "outputs": [],
   "source": [
    "results = df_reviews.Review.head().apply(classifier).explode().apply(pd.Series)\n",
    "results"
   ]
  },
  {
   "cell_type": "code",
   "execution_count": null,
   "id": "fc81509f",
   "metadata": {},
   "outputs": [],
   "source": [
    "# Set the max_colwidth option to -1\n",
    "pd.options.display.max_colwidth = -1\n",
    "# Display the DataFrame\n",
    "df_reviews.head()\n",
    "#display(df_reviews)"
   ]
  },
  {
   "cell_type": "code",
   "execution_count": null,
   "id": "55da453c",
   "metadata": {},
   "outputs": [],
   "source": [
    "df_reviews.head().join(results)"
   ]
  },
  {
   "cell_type": "markdown",
   "id": "95308b5e",
   "metadata": {},
   "source": [
    "### Add neutral with twitter-roberta model"
   ]
  },
  {
   "cell_type": "code",
   "execution_count": null,
   "id": "52ae757b",
   "metadata": {},
   "outputs": [],
   "source": [
    "roberta_sentiment = pipeline(\"sentiment-analysis\", model=\"cardiffnlp/twitter-roberta-base-sentiment-latest\")"
   ]
  },
  {
   "cell_type": "code",
   "execution_count": null,
   "id": "16630c61",
   "metadata": {},
   "outputs": [],
   "source": [
    "results = df_reviews.Review.head().apply(roberta_sentiment).explode().apply(pd.Series)\n",
    "results"
   ]
  },
  {
   "cell_type": "markdown",
   "id": "7bd2b592",
   "metadata": {},
   "source": [
    "check this blog for more infomation: [Getting Started with Sentiment Analysis using Python](https://huggingface.co/blog/sentiment-analysis-python)"
   ]
  },
  {
   "cell_type": "markdown",
   "id": "d88ba426",
   "metadata": {},
   "source": [
    "**Can you apply sentiment analysis to the first 100 lines ?**"
   ]
  },
  {
   "cell_type": "code",
   "execution_count": null,
   "id": "3da08c58",
   "metadata": {},
   "outputs": [],
   "source": []
  },
  {
   "cell_type": "markdown",
   "id": "f4a0ec68",
   "metadata": {},
   "source": [
    "## Information Extraction & Questing Answering"
   ]
  },
  {
   "cell_type": "markdown",
   "id": "b28cc386",
   "metadata": {},
   "source": [
    "Extractive Question Answering is the task of extracting an answer from a text given a question."
   ]
  },
  {
   "cell_type": "code",
   "execution_count": null,
   "id": "24b55047",
   "metadata": {},
   "outputs": [],
   "source": [
    "question_answerer = pipeline(\"question-answering\")"
   ]
  },
  {
   "cell_type": "code",
   "execution_count": null,
   "id": "02da0ed1",
   "metadata": {},
   "outputs": [],
   "source": [
    "question_answerer(question=\"what is the product?\", context=df_reviews.Review.values[1])"
   ]
  },
  {
   "cell_type": "markdown",
   "id": "6cd28ba5",
   "metadata": {},
   "source": [
    "## Text Generation & Prompting"
   ]
  },
  {
   "cell_type": "code",
   "execution_count": null,
   "id": "05008479",
   "metadata": {},
   "outputs": [],
   "source": [
    "from transformers import pipeline, set_seed\n",
    "generator = pipeline('text-generation', model='gpt2')"
   ]
  },
  {
   "cell_type": "code",
   "execution_count": null,
   "id": "e22c7a5e",
   "metadata": {},
   "outputs": [],
   "source": [
    "set_seed(2)\n",
    "generator(\"Hello, I'm an NLP student,\", max_length=30, num_return_sequences=5)"
   ]
  },
  {
   "cell_type": "code",
   "execution_count": null,
   "id": "c2c61347",
   "metadata": {},
   "outputs": [],
   "source": [
    "# with the open source Bloom model https://huggingface.co/bigscience/bloom"
   ]
  },
  {
   "cell_type": "code",
   "execution_count": null,
   "id": "8dc6eada",
   "metadata": {},
   "outputs": [],
   "source": [
    "#generator = pipeline('text-generation', model='bigscience/bloom')"
   ]
  },
  {
   "cell_type": "markdown",
   "id": "d8cd5af0",
   "metadata": {},
   "source": [
    "## Translation"
   ]
  },
  {
   "cell_type": "code",
   "execution_count": null,
   "id": "924a1b16",
   "metadata": {},
   "outputs": [],
   "source": [
    "from transformers import pipeline\n",
    "\n",
    "translator = pipeline(\"translation_en_to_de\")\n",
    "print(translator(\"Hugging Face is a technology company based in New York and Paris\", max_length=40))"
   ]
  },
  {
   "cell_type": "markdown",
   "id": "9348e801",
   "metadata": {},
   "source": [
    "## Summarization"
   ]
  },
  {
   "cell_type": "code",
   "execution_count": null,
   "id": "e4e8908f",
   "metadata": {},
   "outputs": [],
   "source": []
  }
 ],
 "metadata": {
  "kernelspec": {
   "display_name": "Python 3 (ipykernel)",
   "language": "python",
   "name": "python3"
  },
  "language_info": {
   "codemirror_mode": {
    "name": "ipython",
    "version": 3
   },
   "file_extension": ".py",
   "mimetype": "text/x-python",
   "name": "python",
   "nbconvert_exporter": "python",
   "pygments_lexer": "ipython3",
   "version": "3.9.13"
  }
 },
 "nbformat": 4,
 "nbformat_minor": 5
}

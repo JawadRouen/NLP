{
 "cells": [
  {
   "cell_type": "raw",
   "id": "7955df27",
   "metadata": {},
   "source": [
    "https://huggingface.co/docs/datasets/tabular_load#pandas-dataframes\n",
    "https://huggingface.co/docs/datasets/loading#loading-from-local-files\n",
    "https://huggingface.co/docs/transformers/training"
   ]
  },
  {
   "cell_type": "code",
   "execution_count": null,
   "id": "e79f83f4",
   "metadata": {},
   "outputs": [],
   "source": [
    "#! pip install transformers datasets evaluate"
   ]
  },
  {
   "cell_type": "code",
   "execution_count": null,
   "id": "3b33be9f",
   "metadata": {},
   "outputs": [],
   "source": [
    "from datasets import load_dataset"
   ]
  },
  {
   "cell_type": "code",
   "execution_count": null,
   "id": "861c2ef1",
   "metadata": {},
   "outputs": [],
   "source": [
    "import pandas as pd"
   ]
  },
  {
   "cell_type": "code",
   "execution_count": null,
   "id": "7abc88bf",
   "metadata": {},
   "outputs": [],
   "source": [
    "from datasets import load_dataset\n",
    "dataset_train = load_dataset(\"csv\", data_files=\"archive/amazon Food Reviews 100k Dataset.csv\", \n",
    "                       split=\"train[:10%]\")\n",
    "\n",
    "dataset_eval = load_dataset(\"csv\", data_files=\"archive/amazon Food Reviews 100k Dataset.csv\", \n",
    "                       split=\"train[10%:20%]\")"
   ]
  },
  {
   "cell_type": "code",
   "execution_count": null,
   "id": "d58ba65f",
   "metadata": {},
   "outputs": [],
   "source": [
    "dataset_train = dataset_train.rename_column(\"Review\", \"text\")\\\n",
    "    .rename_column(\"Rating\", \"label\")\\\n",
    "    .remove_columns(['Id'])\n",
    "\n",
    "dataset_eval = dataset_eval.rename_column(\"Review\", \"text\")\\\n",
    "    .rename_column(\"Rating\", \"label\")\\\n",
    "    .remove_columns(['Id'])"
   ]
  },
  {
   "cell_type": "markdown",
   "id": "e82348d7",
   "metadata": {},
   "source": [
    "## Tokenizer"
   ]
  },
  {
   "cell_type": "code",
   "execution_count": null,
   "id": "ed232a1e",
   "metadata": {},
   "outputs": [],
   "source": [
    "from transformers import AutoTokenizer\n",
    "\n",
    "tokenizer = AutoTokenizer.from_pretrained(\"bert-base-cased\")"
   ]
  },
  {
   "cell_type": "code",
   "execution_count": null,
   "id": "14ffd5fd",
   "metadata": {},
   "outputs": [],
   "source": [
    "# apply tokenizer\n",
    "def tokenize_function(examples):\n",
    "    return tokenizer(examples[\"text\"], padding=\"max_length\", truncation=True)\n",
    "\n",
    "\n",
    "tokenized_dataset_train = dataset_train.map(tokenize_function, batched=True)\n",
    "tokenized_dataset_eval = dataset_eval.map(tokenize_function, batched=True)"
   ]
  },
  {
   "cell_type": "code",
   "execution_count": null,
   "id": "8f3c9fc0",
   "metadata": {},
   "outputs": [],
   "source": [
    "# https://download.pytorch.org/whl/cu116\n",
    "# !pip3 install torch torchvision torchaudio --extra-index-url "
   ]
  },
  {
   "cell_type": "markdown",
   "id": "2b74a0c2",
   "metadata": {},
   "source": [
    "## Process labels"
   ]
  },
  {
   "cell_type": "code",
   "execution_count": null,
   "id": "364a8fa9",
   "metadata": {},
   "outputs": [],
   "source": [
    "def minus_1(example):\n",
    "    example[\"label\"] = example[\"label\"] - 1\n",
    "    return example"
   ]
  },
  {
   "cell_type": "code",
   "execution_count": null,
   "id": "c56ec21c",
   "metadata": {},
   "outputs": [],
   "source": [
    "tokenized_dataset_train = tokenized_dataset_train.map(minus_1)\n",
    "tokenized_dataset_eval = tokenized_dataset_eval.map(minus_1)"
   ]
  },
  {
   "cell_type": "code",
   "execution_count": null,
   "id": "3682a54c",
   "metadata": {},
   "outputs": [],
   "source": [
    "tokenized_dataset_train.to_pandas().head()"
   ]
  },
  {
   "cell_type": "markdown",
   "id": "4111657a",
   "metadata": {},
   "source": [
    "## Load the model"
   ]
  },
  {
   "cell_type": "markdown",
   "id": "b949fad6",
   "metadata": {},
   "source": [
    "Start by loading your model and specify the number of expected labels."
   ]
  },
  {
   "cell_type": "code",
   "execution_count": null,
   "id": "44ad6a29",
   "metadata": {},
   "outputs": [],
   "source": [
    "from transformers import AutoModelForSequenceClassification\n",
    "\n",
    "model = AutoModelForSequenceClassification.from_pretrained(\"bert-base-cased\", num_labels=5)"
   ]
  },
  {
   "cell_type": "code",
   "execution_count": null,
   "id": "56b23fa4",
   "metadata": {},
   "outputs": [],
   "source": [
    "#model = model.to('cuda')"
   ]
  },
  {
   "cell_type": "markdown",
   "id": "45895d6a",
   "metadata": {},
   "source": [
    "Training hyperparameters - Specify where to save the checkpoints from your training.\n",
    "specify the evaluation_strategy parameter in your training arguments to report the evaluation metric at the end of each epoch:"
   ]
  },
  {
   "cell_type": "code",
   "execution_count": null,
   "id": "40884944",
   "metadata": {},
   "outputs": [],
   "source": [
    "from transformers import TrainingArguments\n",
    "\n",
    "training_args = TrainingArguments(output_dir=\"test_trainer\", \n",
    "                                  evaluation_strategy=\"epoch\"\n",
    "                                 )"
   ]
  },
  {
   "cell_type": "markdown",
   "id": "826ecea3",
   "metadata": {},
   "source": [
    "## Evalute"
   ]
  },
  {
   "cell_type": "code",
   "execution_count": null,
   "id": "2c145b09",
   "metadata": {},
   "outputs": [],
   "source": [
    "import numpy as np\n",
    "import evaluate\n",
    "\n",
    "metric = evaluate.load(\"accuracy\")"
   ]
  },
  {
   "cell_type": "code",
   "execution_count": null,
   "id": "811c2bc6",
   "metadata": {},
   "outputs": [],
   "source": [
    "def compute_metrics(eval_pred):\n",
    "    logits, labels = eval_pred\n",
    "    predictions = np.argmax(logits, axis=-1)\n",
    "    return metric.compute(predictions=predictions, references=labels)"
   ]
  },
  {
   "cell_type": "markdown",
   "id": "a16e0283",
   "metadata": {},
   "source": [
    "## Trainer"
   ]
  },
  {
   "cell_type": "code",
   "execution_count": null,
   "id": "7407e6df",
   "metadata": {},
   "outputs": [],
   "source": [
    "from transformers import Trainer\n",
    "\n",
    "trainer = Trainer(\n",
    "    model=model,\n",
    "    args=training_args,\n",
    "    train_dataset=tokenized_dataset_train,\n",
    "    eval_dataset=tokenized_dataset_eval,\n",
    "    compute_metrics=compute_metrics,\n",
    ")"
   ]
  },
  {
   "cell_type": "code",
   "execution_count": null,
   "id": "e3f47209",
   "metadata": {
    "scrolled": false
   },
   "outputs": [],
   "source": [
    "trainer.train()"
   ]
  },
  {
   "cell_type": "code",
   "execution_count": null,
   "id": "2c2f4610",
   "metadata": {},
   "outputs": [],
   "source": [
    "trainer.evaluate()"
   ]
  }
 ],
 "metadata": {
  "kernelspec": {
   "display_name": "Python 3 (ipykernel)",
   "language": "python",
   "name": "python3"
  },
  "language_info": {
   "codemirror_mode": {
    "name": "ipython",
    "version": 3
   },
   "file_extension": ".py",
   "mimetype": "text/x-python",
   "name": "python",
   "nbconvert_exporter": "python",
   "pygments_lexer": "ipython3",
   "version": "3.9.13"
  }
 },
 "nbformat": 4,
 "nbformat_minor": 5
}
